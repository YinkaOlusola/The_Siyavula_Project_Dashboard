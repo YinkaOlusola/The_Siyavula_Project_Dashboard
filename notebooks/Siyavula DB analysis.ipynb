{
 "cells": [
  {
   "cell_type": "markdown",
   "id": "7425ebc7",
   "metadata": {},
   "source": [
    "## Connecting and Exploring the Siyavula database on AWS"
   ]
  },
  {
   "cell_type": "markdown",
   "id": "b08072c7",
   "metadata": {},
   "source": [
    "Import and install the relevant packages for connecting to AWS postgres instance and exploring the data respectively"
   ]
  },
  {
   "cell_type": "code",
   "execution_count": 1,
   "id": "9b1e8f6f",
   "metadata": {},
   "outputs": [],
   "source": [
    "#Uncomment the below statement install the postgresql-python connection utilities\n",
    "#!pip install psycopg2\n",
    "#!pip install numpy\n",
    "#!pip install pandas"
   ]
  },
  {
   "cell_type": "code",
   "execution_count": 2,
   "id": "0ae201f8",
   "metadata": {},
   "outputs": [],
   "source": [
    "import psycopg2\n",
    "import numpy as np\n",
    "import pandas as pd"
   ]
  },
  {
   "cell_type": "code",
   "execution_count": 3,
   "id": "f74a2247",
   "metadata": {},
   "outputs": [],
   "source": [
    "# Establishing connection\n",
    "conn = psycopg2.connect(\n",
    "    database = \"siyavula-intern-final\",\n",
    "    user=\"master_db2\",\n",
    "    password=\"master1234\",\n",
    "    host=\"siyavula-postgre-db2.cnzbp4ndrpos.eu-west-1.rds.amazonaws.com\",\n",
    "    port=\"5432\")\n",
    "\n",
    "cursor=conn.cursor()"
   ]
  },
  {
   "cell_type": "code",
   "execution_count": 4,
   "id": "e36d64a2",
   "metadata": {},
   "outputs": [
    {
     "name": "stdout",
     "output_type": "stream",
     "text": [
      "There are 155 tables in the database\n"
     ]
    },
    {
     "data": {
      "text/html": [
       "<div>\n",
       "<style scoped>\n",
       "    .dataframe tbody tr th:only-of-type {\n",
       "        vertical-align: middle;\n",
       "    }\n",
       "\n",
       "    .dataframe tbody tr th {\n",
       "        vertical-align: top;\n",
       "    }\n",
       "\n",
       "    .dataframe thead th {\n",
       "        text-align: right;\n",
       "    }\n",
       "</style>\n",
       "<table border=\"1\" class=\"dataframe\">\n",
       "  <thead>\n",
       "    <tr style=\"text-align: right;\">\n",
       "      <th></th>\n",
       "      <th>table_name</th>\n",
       "    </tr>\n",
       "  </thead>\n",
       "  <tbody>\n",
       "    <tr>\n",
       "      <th>0</th>\n",
       "      <td>access_code_redemption</td>\n",
       "    </tr>\n",
       "    <tr>\n",
       "      <th>1</th>\n",
       "      <td>classes</td>\n",
       "    </tr>\n",
       "    <tr>\n",
       "      <th>2</th>\n",
       "      <td>master_schools</td>\n",
       "    </tr>\n",
       "    <tr>\n",
       "      <th>3</th>\n",
       "      <td>schools</td>\n",
       "    </tr>\n",
       "    <tr>\n",
       "      <th>4</th>\n",
       "      <td>user_class</td>\n",
       "    </tr>\n",
       "  </tbody>\n",
       "</table>\n",
       "</div>"
      ],
      "text/plain": [
       "               table_name\n",
       "0  access_code_redemption\n",
       "1                 classes\n",
       "2          master_schools\n",
       "3                 schools\n",
       "4              user_class"
      ]
     },
     "execution_count": 4,
     "metadata": {},
     "output_type": "execute_result"
    }
   ],
   "source": [
    "db_tables = pd.read_sql(\n",
    "    \"select table_name from information_schema.tables  where table_schema = 'public'  and table_type = 'BASE TABLE'\",\n",
    "    conn)\n",
    "print(f'There are {db_tables.shape[0]} tables in the database')\n",
    "db_tables.head()"
   ]
  },
  {
   "cell_type": "code",
   "execution_count": 5,
   "id": "b569bf38",
   "metadata": {},
   "outputs": [
    {
     "data": {
      "text/html": [
       "<div>\n",
       "<style scoped>\n",
       "    .dataframe tbody tr th:only-of-type {\n",
       "        vertical-align: middle;\n",
       "    }\n",
       "\n",
       "    .dataframe tbody tr th {\n",
       "        vertical-align: top;\n",
       "    }\n",
       "\n",
       "    .dataframe thead th {\n",
       "        text-align: right;\n",
       "    }\n",
       "</style>\n",
       "<table border=\"1\" class=\"dataframe\">\n",
       "  <thead>\n",
       "    <tr style=\"text-align: right;\">\n",
       "      <th></th>\n",
       "      <th>table_name</th>\n",
       "      <th>n_rows</th>\n",
       "    </tr>\n",
       "  </thead>\n",
       "  <tbody>\n",
       "    <tr>\n",
       "      <th>0</th>\n",
       "      <td>access_code_redemption</td>\n",
       "      <td>359814</td>\n",
       "    </tr>\n",
       "    <tr>\n",
       "      <th>1</th>\n",
       "      <td>classes</td>\n",
       "      <td>168711</td>\n",
       "    </tr>\n",
       "    <tr>\n",
       "      <th>2</th>\n",
       "      <td>master_schools</td>\n",
       "      <td>27790</td>\n",
       "    </tr>\n",
       "    <tr>\n",
       "      <th>3</th>\n",
       "      <td>schools</td>\n",
       "      <td>15452</td>\n",
       "    </tr>\n",
       "    <tr>\n",
       "      <th>4</th>\n",
       "      <td>user_class</td>\n",
       "      <td>3022382</td>\n",
       "    </tr>\n",
       "  </tbody>\n",
       "</table>\n",
       "</div>"
      ],
      "text/plain": [
       "               table_name   n_rows\n",
       "0  access_code_redemption   359814\n",
       "1                 classes   168711\n",
       "2          master_schools    27790\n",
       "3                 schools    15452\n",
       "4              user_class  3022382"
      ]
     },
     "execution_count": 5,
     "metadata": {},
     "output_type": "execute_result"
    }
   ],
   "source": [
    "# get the number of rows in each table in db_tables\n",
    "n_rows = []\n",
    "for table in db_tables.table_name:\n",
    "    statement = f\"\"\"\n",
    "        with table1 as (\n",
    "            select *\n",
    "            from {table}\n",
    "        )\n",
    "        select count(*) from table1;\n",
    "    \"\"\"\n",
    "    cursor.execute(statement)\n",
    "    n_rows.append(cursor.fetchone()[0])\n",
    "\n",
    "# append the numberof rows to the db_tables\n",
    "db_tables['n_rows'] = n_rows\n",
    "#Let's view our results\n",
    "db_tables.head()"
   ]
  },
  {
   "cell_type": "code",
   "execution_count": 6,
   "id": "ca30819e",
   "metadata": {},
   "outputs": [
    {
     "name": "stdout",
     "output_type": "stream",
     "text": [
      "There are 121 tables in the database with data\n"
     ]
    },
    {
     "data": {
      "text/html": [
       "<div>\n",
       "<style scoped>\n",
       "    .dataframe tbody tr th:only-of-type {\n",
       "        vertical-align: middle;\n",
       "    }\n",
       "\n",
       "    .dataframe tbody tr th {\n",
       "        vertical-align: top;\n",
       "    }\n",
       "\n",
       "    .dataframe thead th {\n",
       "        text-align: right;\n",
       "    }\n",
       "</style>\n",
       "<table border=\"1\" class=\"dataframe\">\n",
       "  <thead>\n",
       "    <tr style=\"text-align: right;\">\n",
       "      <th></th>\n",
       "      <th>table_name</th>\n",
       "      <th>n_rows</th>\n",
       "    </tr>\n",
       "  </thead>\n",
       "  <tbody>\n",
       "    <tr>\n",
       "      <th>94</th>\n",
       "      <td>responses</td>\n",
       "      <td>108739259</td>\n",
       "    </tr>\n",
       "    <tr>\n",
       "      <th>105</th>\n",
       "      <td>response_mastery</td>\n",
       "      <td>86269539</td>\n",
       "    </tr>\n",
       "    <tr>\n",
       "      <th>11</th>\n",
       "      <td>activity_templates</td>\n",
       "      <td>27455755</td>\n",
       "    </tr>\n",
       "    <tr>\n",
       "      <th>104</th>\n",
       "      <td>response_attempt</td>\n",
       "      <td>25924081</td>\n",
       "    </tr>\n",
       "    <tr>\n",
       "      <th>84</th>\n",
       "      <td>page_view_tracking</td>\n",
       "      <td>21407656</td>\n",
       "    </tr>\n",
       "  </tbody>\n",
       "</table>\n",
       "</div>"
      ],
      "text/plain": [
       "             table_name     n_rows\n",
       "94            responses  108739259\n",
       "105    response_mastery   86269539\n",
       "11   activity_templates   27455755\n",
       "104    response_attempt   25924081\n",
       "84   page_view_tracking   21407656"
      ]
     },
     "execution_count": 6,
     "metadata": {},
     "output_type": "execute_result"
    }
   ],
   "source": [
    "# Let's now filter out all tables with data and return those as the ones we need to explore\n",
    "db_tables_with_data = db_tables[db_tables.n_rows > 0]\n",
    "# We sort the tables in descending order of the number of rows that they contain\n",
    "db_tables_with_data = db_tables_with_data.sort_values('n_rows', ascending = False)\n",
    "#Let's view our results\n",
    "print(f'There are {db_tables_with_data.shape[0]} tables in the database with data')\n",
    "db_tables_with_data.head()"
   ]
  },
  {
   "cell_type": "code",
   "execution_count": 7,
   "id": "adb41c42",
   "metadata": {},
   "outputs": [
    {
     "name": "stdout",
     "output_type": "stream",
     "text": [
      "(1229, 3)\n"
     ]
    },
    {
     "data": {
      "text/html": [
       "<div>\n",
       "<style scoped>\n",
       "    .dataframe tbody tr th:only-of-type {\n",
       "        vertical-align: middle;\n",
       "    }\n",
       "\n",
       "    .dataframe tbody tr th {\n",
       "        vertical-align: top;\n",
       "    }\n",
       "\n",
       "    .dataframe thead th {\n",
       "        text-align: right;\n",
       "    }\n",
       "</style>\n",
       "<table border=\"1\" class=\"dataframe\">\n",
       "  <thead>\n",
       "    <tr style=\"text-align: right;\">\n",
       "      <th></th>\n",
       "      <th>table_name</th>\n",
       "      <th>column_name</th>\n",
       "      <th>data_type</th>\n",
       "    </tr>\n",
       "  </thead>\n",
       "  <tbody>\n",
       "    <tr>\n",
       "      <th>0</th>\n",
       "      <td>interactive_textbook_question</td>\n",
       "      <td>question_data</td>\n",
       "      <td>jsonb</td>\n",
       "    </tr>\n",
       "    <tr>\n",
       "      <th>1</th>\n",
       "      <td>users</td>\n",
       "      <td>last_login</td>\n",
       "      <td>timestamp with time zone</td>\n",
       "    </tr>\n",
       "    <tr>\n",
       "      <th>2</th>\n",
       "      <td>live_tutor_groups</td>\n",
       "      <td>group_uuid</td>\n",
       "      <td>uuid</td>\n",
       "    </tr>\n",
       "    <tr>\n",
       "      <th>3</th>\n",
       "      <td>atom_types</td>\n",
       "      <td>name</td>\n",
       "      <td>character varying</td>\n",
       "    </tr>\n",
       "    <tr>\n",
       "      <th>4</th>\n",
       "      <td>message_seeds</td>\n",
       "      <td>notification_content</td>\n",
       "      <td>character varying</td>\n",
       "    </tr>\n",
       "  </tbody>\n",
       "</table>\n",
       "</div>"
      ],
      "text/plain": [
       "                      table_name           column_name  \\\n",
       "0  interactive_textbook_question         question_data   \n",
       "1                          users            last_login   \n",
       "2              live_tutor_groups            group_uuid   \n",
       "3                     atom_types                  name   \n",
       "4                  message_seeds  notification_content   \n",
       "\n",
       "                  data_type  \n",
       "0                     jsonb  \n",
       "1  timestamp with time zone  \n",
       "2                      uuid  \n",
       "3         character varying  \n",
       "4         character varying  "
      ]
     },
     "execution_count": 7,
     "metadata": {},
     "output_type": "execute_result"
    }
   ],
   "source": [
    "table_columns = pd.read_sql(\n",
    "    \"select table_name, column_name, data_type from information_schema.columns where table_schema = 'public'\",\n",
    "    conn)\n",
    "#Let's view our results\n",
    "print(table_columns.shape)\n",
    "table_columns.head()"
   ]
  },
  {
   "cell_type": "code",
   "execution_count": 8,
   "id": "28861215",
   "metadata": {},
   "outputs": [
    {
     "name": "stdout",
     "output_type": "stream",
     "text": [
      "We have 902 columns in the 121 tables with data to consider.\n"
     ]
    },
    {
     "data": {
      "text/html": [
       "<div>\n",
       "<style scoped>\n",
       "    .dataframe tbody tr th:only-of-type {\n",
       "        vertical-align: middle;\n",
       "    }\n",
       "\n",
       "    .dataframe tbody tr th {\n",
       "        vertical-align: top;\n",
       "    }\n",
       "\n",
       "    .dataframe thead th {\n",
       "        text-align: right;\n",
       "    }\n",
       "</style>\n",
       "<table border=\"1\" class=\"dataframe\">\n",
       "  <thead>\n",
       "    <tr style=\"text-align: right;\">\n",
       "      <th></th>\n",
       "      <th>table_name</th>\n",
       "      <th>n_rows</th>\n",
       "      <th>column_name</th>\n",
       "      <th>data_type</th>\n",
       "    </tr>\n",
       "  </thead>\n",
       "  <tbody>\n",
       "    <tr>\n",
       "      <th>0</th>\n",
       "      <td>responses</td>\n",
       "      <td>108739259</td>\n",
       "      <td>random_seed</td>\n",
       "      <td>integer</td>\n",
       "    </tr>\n",
       "    <tr>\n",
       "      <th>1</th>\n",
       "      <td>responses</td>\n",
       "      <td>108739259</td>\n",
       "      <td>modified_at</td>\n",
       "      <td>timestamp with time zone</td>\n",
       "    </tr>\n",
       "    <tr>\n",
       "      <th>2</th>\n",
       "      <td>responses</td>\n",
       "      <td>108739259</td>\n",
       "      <td>correctness</td>\n",
       "      <td>boolean</td>\n",
       "    </tr>\n",
       "    <tr>\n",
       "      <th>3</th>\n",
       "      <td>responses</td>\n",
       "      <td>108739259</td>\n",
       "      <td>template_id</td>\n",
       "      <td>integer</td>\n",
       "    </tr>\n",
       "    <tr>\n",
       "      <th>4</th>\n",
       "      <td>responses</td>\n",
       "      <td>108739259</td>\n",
       "      <td>responses</td>\n",
       "      <td>jsonb</td>\n",
       "    </tr>\n",
       "  </tbody>\n",
       "</table>\n",
       "</div>"
      ],
      "text/plain": [
       "  table_name     n_rows  column_name                 data_type\n",
       "0  responses  108739259  random_seed                   integer\n",
       "1  responses  108739259  modified_at  timestamp with time zone\n",
       "2  responses  108739259  correctness                   boolean\n",
       "3  responses  108739259  template_id                   integer\n",
       "4  responses  108739259    responses                     jsonb"
      ]
     },
     "execution_count": 8,
     "metadata": {},
     "output_type": "execute_result"
    }
   ],
   "source": [
    "# Let's merge our columns to the tables with data dataframe\n",
    "db_table_columns = db_tables_with_data.merge(\n",
    "    table_columns, how='left', on='table_name')\n",
    "#Let's view our results\n",
    "print(\n",
    "    f'We have {db_table_columns.shape[0]} columns in the {db_table_columns.table_name.nunique()} tables with data to consider.')\n",
    "db_table_columns.head()"
   ]
  },
  {
   "cell_type": "code",
   "execution_count": 9,
   "id": "5ece31b9",
   "metadata": {},
   "outputs": [
    {
     "data": {
      "text/plain": [
       "table_name\n",
       "alembic_version          1\n",
       "exercise_counter         2\n",
       "order_discounts          2\n",
       "activity_assignment      2\n",
       "product_commodities      2\n",
       "                        ..\n",
       "schools_version         16\n",
       "responses               17\n",
       "orders                  17\n",
       "billing_transactions    19\n",
       "subscriptions           19\n",
       "Name: column_name, Length: 121, dtype: int64"
      ]
     },
     "execution_count": 9,
     "metadata": {},
     "output_type": "execute_result"
    }
   ],
   "source": [
    "n_columns = db_table_columns.groupby('table_name').agg({'n_rows': 'max', 'column_name': 'count'})\n",
    "n_columns['column_name'].sort_values()"
   ]
  },
  {
   "cell_type": "code",
   "execution_count": 10,
   "id": "50528a20",
   "metadata": {},
   "outputs": [],
   "source": [
    "# Create a excel file with table analysis results\n",
    "with pd.ExcelWriter('siyavula_table_analysis.xlsx', mode='w') as writer:\n",
    "    db_tables.to_excel(writer, sheet_name='Count of Data rows', index=False)\n",
    "    db_tables_with_data.to_excel(writer, sheet_name='Tables with Data', index=False)\n",
    "    db_table_columns.to_excel(writer, sheet_name='Tables columns with Data', index=False)"
   ]
  },
  {
   "cell_type": "markdown",
   "id": "7417d14a",
   "metadata": {},
   "source": [
    "### Identifying the tables to consider"
   ]
  },
  {
   "cell_type": "code",
   "execution_count": 11,
   "id": "0aec6fe5",
   "metadata": {},
   "outputs": [
    {
     "data": {
      "text/plain": [
       "18"
      ]
     },
     "execution_count": 11,
     "metadata": {},
     "output_type": "execute_result"
    }
   ],
   "source": [
    "tables_considered = (\n",
    "    'activities', 'activity_assignment', 'assignments', 'assignment_recipient', 'assignment_content',\n",
    "    'books', 'chapters', 'classes', 'content_books', 'learner_activity_summary', 'projects', \n",
    "    'project_user_groups', 'master_schools', 'responses', 'response_attempt', 'response_mastery',\n",
    "    'user_profile_general', 'users', 'subjects', 'templates', 'sa_schools'\n",
    ")\n",
    "len(tables_considered)"
   ]
  },
  {
   "cell_type": "code",
   "execution_count": 12,
   "id": "53b20928",
   "metadata": {},
   "outputs": [
    {
     "data": {
      "text/html": [
       "<div>\n",
       "<style scoped>\n",
       "    .dataframe tbody tr th:only-of-type {\n",
       "        vertical-align: middle;\n",
       "    }\n",
       "\n",
       "    .dataframe tbody tr th {\n",
       "        vertical-align: top;\n",
       "    }\n",
       "\n",
       "    .dataframe thead th {\n",
       "        text-align: right;\n",
       "    }\n",
       "</style>\n",
       "<table border=\"1\" class=\"dataframe\">\n",
       "  <thead>\n",
       "    <tr style=\"text-align: right;\">\n",
       "      <th></th>\n",
       "      <th>table_name</th>\n",
       "      <th>n_rows</th>\n",
       "      <th>column_name</th>\n",
       "      <th>data_type</th>\n",
       "    </tr>\n",
       "  </thead>\n",
       "  <tbody>\n",
       "    <tr>\n",
       "      <th>0</th>\n",
       "      <td>responses</td>\n",
       "      <td>108739259</td>\n",
       "      <td>random_seed</td>\n",
       "      <td>integer</td>\n",
       "    </tr>\n",
       "    <tr>\n",
       "      <th>1</th>\n",
       "      <td>responses</td>\n",
       "      <td>108739259</td>\n",
       "      <td>modified_at</td>\n",
       "      <td>timestamp with time zone</td>\n",
       "    </tr>\n",
       "    <tr>\n",
       "      <th>2</th>\n",
       "      <td>responses</td>\n",
       "      <td>108739259</td>\n",
       "      <td>correctness</td>\n",
       "      <td>boolean</td>\n",
       "    </tr>\n",
       "    <tr>\n",
       "      <th>3</th>\n",
       "      <td>responses</td>\n",
       "      <td>108739259</td>\n",
       "      <td>template_id</td>\n",
       "      <td>integer</td>\n",
       "    </tr>\n",
       "    <tr>\n",
       "      <th>4</th>\n",
       "      <td>responses</td>\n",
       "      <td>108739259</td>\n",
       "      <td>responses</td>\n",
       "      <td>jsonb</td>\n",
       "    </tr>\n",
       "  </tbody>\n",
       "</table>\n",
       "</div>"
      ],
      "text/plain": [
       "  table_name     n_rows  column_name                 data_type\n",
       "0  responses  108739259  random_seed                   integer\n",
       "1  responses  108739259  modified_at  timestamp with time zone\n",
       "2  responses  108739259  correctness                   boolean\n",
       "3  responses  108739259  template_id                   integer\n",
       "4  responses  108739259    responses                     jsonb"
      ]
     },
     "execution_count": 12,
     "metadata": {},
     "output_type": "execute_result"
    }
   ],
   "source": [
    "df = pd.read_excel('siyavula_table_analysis.xlsx', sheet_name='Tables columns with Data')\n",
    "df.head()"
   ]
  },
  {
   "cell_type": "code",
   "execution_count": 13,
   "id": "c7d65396",
   "metadata": {},
   "outputs": [
    {
     "name": "stdout",
     "output_type": "stream",
     "text": [
      "activities\t17,808,093\n",
      "['activity_type', 'content', 'uuid', 'activity_status', 'created_at', 'user_uuid', 'book_id', 'current_activity_template_id', 'current_template_response_uuid', 'modified_at']\n",
      "\n",
      " -------------------------------------------------- \n",
      "\n",
      "activity_assignment\t1,030,680\n",
      "['assignment_id', 'activity_uuid']\n",
      "\n",
      " -------------------------------------------------- \n",
      "\n",
      "assignments\t26,726\n",
      "['status', 'deleted_by_user_uuid', 'title', 'due_at', 'shortcode', 'id', 'modified_at', 'subject_id', 'created_at', 'assignment_type', 'sent_at', 'owner_uuid', 'start_at', 'deleted_reason', 'deleted_at']\n",
      "\n",
      " -------------------------------------------------- \n",
      "\n",
      "assignment_recipient\t47,108\n",
      "['assignment_id', 'recipient_type', 'id', 'recipient_id']\n",
      "\n",
      " -------------------------------------------------- \n",
      "\n",
      "books\t72\n",
      "['content_id', 'activity_type', 'subject_id', 'subject', 'curriculum', 'id', 'title', 'active', 'grade']\n",
      "\n",
      " -------------------------------------------------- \n",
      "\n",
      "chapters\t634\n",
      "['number', 'visible', 'id', 'path', 'active', 'title', 'has_exclusion_warning', 'has_templates', 'topic', 'topic_number', 'difficulty', 'book_id']\n",
      "\n",
      " -------------------------------------------------- \n",
      "\n",
      "classes\t168,711\n",
      "['copied_from', 'subject_id', 'year', 'deleted_user_uuid', 'deleted_at', 'subject', 'uuid', 'grade', 'name', 'class_size', 'school_uuid', 'class_type']\n",
      "\n",
      " -------------------------------------------------- \n",
      "\n",
      "content_books\t8\n",
      "['created_at', 'book_id', 'modified_at', 'content_id', 'deleted_at', 'deleted_reason']\n",
      "\n",
      " -------------------------------------------------- \n",
      "\n",
      "learner_activity_summary\t5,387,909\n",
      "['month', 'atoms', 'user_uuid', 'summary_date', 'responses', 'year', 'id', 'subject_id']\n",
      "\n",
      " -------------------------------------------------- \n",
      "\n",
      "projects\t618\n",
      "['deleted_reason', 'modified_at', 'deleted_at', 'uuid', 'created_at', 'created_by_uuid', 'name']\n",
      "\n",
      " -------------------------------------------------- \n",
      "\n",
      "project_user_groups\t236,927\n",
      "['user_group_uuid', 'project_uuid', 'user_grouping']\n",
      "\n",
      " -------------------------------------------------- \n",
      "\n",
      "master_schools\t27,790\n",
      "['search_name', 'qualifies_riseup', 'country', 'id', 'school_uuid', 'name', 'display_name', 'province_state', 'district', 'searchable', 'city_town', 'paid_client']\n",
      "\n",
      " -------------------------------------------------- \n",
      "\n",
      "responses\t108,739,259\n",
      "['random_seed', 'modified_at', 'correctness', 'template_id', 'responses', 'uuid', 'difficulty', 'correct', 'atoms', 'created_at', 'user_uuid', 'durations', 'marks', 'activity_uuid', 'section_id', 'attempted', 'subject_id']\n",
      "\n",
      " -------------------------------------------------- \n",
      "\n",
      "response_attempt\t25,924,081\n",
      "['second_chance_feedback', 'correctness', 'marks', 'responses', 'input_index', 'response_uuid', 'unique_hash', 'id', 'created_at', 'durations']\n",
      "\n",
      " -------------------------------------------------- \n",
      "\n",
      "response_mastery\t86,269,539\n",
      "['section_id', 'created_at', 'chapter_id', 'algorithm_section_mastery', 'section_mastery', 'response_uuid', 'chapter_mastery', 'algorithm_chapter_mastery', 'book_id', 'correct_responses', 'response_types', 'user_uuid']\n",
      "\n",
      " -------------------------------------------------- \n",
      "\n",
      "user_profile_general\tNo data in table\n",
      "['telephone_confirmed_at', 'grade', 'created_at', 'modified_at', 'date_of_birth', 'grade_confirmed_at', 'gender', 'user_uuid', 'setup_wizard_completed', 'deleted_at', 'public_leaderboard_optin', 'email_verified', 'public_leaderboard_optin_at', 'master_school_id', 'email_confirmed_at', 'curriculum', 'school_search_name', 'name', 'user_data_type', 'surname', 'username', 'email', 'telephone', 'city', 'country', 'id_number', 'school', 'deleted_reason', 'parent_email', 'parent_name', 'parent_surname', 'parent_telephone', 'dialling_code']\n",
      "\n",
      " -------------------------------------------------- \n",
      "\n",
      "subjects\t6\n",
      "['full_name', 'icon_name', 'id', 'name']\n",
      "\n",
      " -------------------------------------------------- \n",
      "\n",
      "templates\t3,852\n",
      "['content_hash', 'response_count', 'authors', 'deleted_at', 'title', 'zipdata', 'total_marks', 'id', 'created_at', 'modified_at', 'muesli', 'source', 'rendered_title', 'distinct_question_set']\n",
      "\n",
      " -------------------------------------------------- \n",
      "\n"
     ]
    }
   ],
   "source": [
    "for table in tables_considered:\n",
    "    try:\n",
    "        print(table, format(df[df.table_name == table].n_rows.values[0], ','), sep='\\t')\n",
    "        print(df['column_name'][df.table_name == table].to_list())\n",
    "    except Exception as e:\n",
    "        print(table, 'No data in table', sep='\\t')\n",
    "        print(pd.read_sql(\n",
    "                f\"select column_name from information_schema.columns where table_name = '{table}'\", conn\n",
    "            ).column_name.to_list())\n",
    "    print('\\n','-'*50, '\\n' )"
   ]
  },
  {
   "cell_type": "code",
   "execution_count": null,
   "id": "f4ae0add",
   "metadata": {},
   "outputs": [],
   "source": [
    "conn.close()"
   ]
  }
 ],
 "metadata": {
  "kernelspec": {
   "display_name": "Python 3 (ipykernel)",
   "language": "python",
   "name": "python3"
  },
  "language_info": {
   "codemirror_mode": {
    "name": "ipython",
    "version": 3
   },
   "file_extension": ".py",
   "mimetype": "text/x-python",
   "name": "python",
   "nbconvert_exporter": "python",
   "pygments_lexer": "ipython3",
   "version": "3.9.7"
  }
 },
 "nbformat": 4,
 "nbformat_minor": 5
}
